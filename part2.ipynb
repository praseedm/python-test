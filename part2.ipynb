{
 "cells": [
  {
   "cell_type": "markdown",
   "metadata": {},
   "source": [
    "Part 2 (data visualization ):\n",
    "For this section, you can use only bokeh. https://bokeh.pydata.org/en/latest/docs/gallery.html\n",
    " \n",
    "1. Create timeseries plot of close prices of stocks/indices with the following features:\n",
    "2. Color timeseries in simple blue color.\n",
    "3. Color timeseries between two volume shocks in a different color (Red)\n",
    "4. Gradient color in blue spectrum based on difference of 52 week moving average.\n",
    "5. Mark closing Pricing shock without volume shock to identify volumeless price movement.\n",
    "6. Hand craft partial autocorrelation plot for each stock/index on upto all lookbacks on bokeh - sample reference - https://www.statsmodels.org/dev/generated/statsmodels.graphics.tsaplots.plot_pacf.html"
   ]
  },
  {
   "cell_type": "code",
   "execution_count": null,
   "metadata": {},
   "outputs": [],
   "source": []
  }
 ],
 "metadata": {
  "kernelspec": {
   "display_name": "Python 3",
   "language": "python",
   "name": "python3"
  },
  "language_info": {
   "codemirror_mode": {
    "name": "ipython",
    "version": 3
   },
   "file_extension": ".py",
   "mimetype": "text/x-python",
   "name": "python",
   "nbconvert_exporter": "python",
   "pygments_lexer": "ipython3",
   "version": "3.6.7"
  }
 },
 "nbformat": 4,
 "nbformat_minor": 2
}

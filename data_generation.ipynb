{
 "cells": [
  {
   "cell_type": "code",
   "execution_count": 15,
   "metadata": {},
   "outputs": [],
   "source": [
    "import pandas as pd\n",
    "import matplotlib.pyplot as plt"
   ]
  },
  {
   "cell_type": "code",
   "execution_count": 16,
   "metadata": {},
   "outputs": [],
   "source": [
    "from datetime import date\n",
    "from nsepy import get_history\n"
   ]
  },
  {
   "cell_type": "code",
   "execution_count": 23,
   "metadata": {
    "scrolled": true
   },
   "outputs": [
    {
     "data": {
      "text/html": [
       "<div>\n",
       "<style scoped>\n",
       "    .dataframe tbody tr th:only-of-type {\n",
       "        vertical-align: middle;\n",
       "    }\n",
       "\n",
       "    .dataframe tbody tr th {\n",
       "        vertical-align: top;\n",
       "    }\n",
       "\n",
       "    .dataframe thead th {\n",
       "        text-align: right;\n",
       "    }\n",
       "</style>\n",
       "<table border=\"1\" class=\"dataframe\">\n",
       "  <thead>\n",
       "    <tr style=\"text-align: right;\">\n",
       "      <th></th>\n",
       "      <th>Symbol</th>\n",
       "      <th>Series</th>\n",
       "      <th>Prev Close</th>\n",
       "      <th>Open</th>\n",
       "      <th>High</th>\n",
       "      <th>Low</th>\n",
       "      <th>Last</th>\n",
       "      <th>Close</th>\n",
       "      <th>VWAP</th>\n",
       "      <th>Volume</th>\n",
       "      <th>Turnover</th>\n",
       "      <th>Trades</th>\n",
       "      <th>Deliverable Volume</th>\n",
       "      <th>%Deliverble</th>\n",
       "    </tr>\n",
       "    <tr>\n",
       "      <th>Date</th>\n",
       "      <th></th>\n",
       "      <th></th>\n",
       "      <th></th>\n",
       "      <th></th>\n",
       "      <th></th>\n",
       "      <th></th>\n",
       "      <th></th>\n",
       "      <th></th>\n",
       "      <th></th>\n",
       "      <th></th>\n",
       "      <th></th>\n",
       "      <th></th>\n",
       "      <th></th>\n",
       "      <th></th>\n",
       "    </tr>\n",
       "  </thead>\n",
       "  <tbody>\n",
       "    <tr>\n",
       "      <th>2015-01-01</th>\n",
       "      <td>INFY</td>\n",
       "      <td>EQ</td>\n",
       "      <td>1972.55</td>\n",
       "      <td>1968.95</td>\n",
       "      <td>1982.00</td>\n",
       "      <td>1956.9</td>\n",
       "      <td>1971.00</td>\n",
       "      <td>1974.40</td>\n",
       "      <td>1971.34</td>\n",
       "      <td>500691</td>\n",
       "      <td>9.870306e+13</td>\n",
       "      <td>14908</td>\n",
       "      <td>258080</td>\n",
       "      <td>0.5154</td>\n",
       "    </tr>\n",
       "    <tr>\n",
       "      <th>2015-01-02</th>\n",
       "      <td>INFY</td>\n",
       "      <td>EQ</td>\n",
       "      <td>1974.40</td>\n",
       "      <td>1972.00</td>\n",
       "      <td>2019.05</td>\n",
       "      <td>1972.0</td>\n",
       "      <td>2017.95</td>\n",
       "      <td>2013.20</td>\n",
       "      <td>2003.25</td>\n",
       "      <td>1694580</td>\n",
       "      <td>3.394669e+14</td>\n",
       "      <td>54166</td>\n",
       "      <td>1249104</td>\n",
       "      <td>0.7371</td>\n",
       "    </tr>\n",
       "    <tr>\n",
       "      <th>2015-01-05</th>\n",
       "      <td>INFY</td>\n",
       "      <td>EQ</td>\n",
       "      <td>2013.20</td>\n",
       "      <td>2009.90</td>\n",
       "      <td>2030.00</td>\n",
       "      <td>1977.5</td>\n",
       "      <td>1996.00</td>\n",
       "      <td>1995.90</td>\n",
       "      <td>2004.59</td>\n",
       "      <td>2484256</td>\n",
       "      <td>4.979911e+14</td>\n",
       "      <td>82694</td>\n",
       "      <td>1830962</td>\n",
       "      <td>0.7370</td>\n",
       "    </tr>\n",
       "    <tr>\n",
       "      <th>2015-01-06</th>\n",
       "      <td>INFY</td>\n",
       "      <td>EQ</td>\n",
       "      <td>1995.90</td>\n",
       "      <td>1980.00</td>\n",
       "      <td>1985.00</td>\n",
       "      <td>1934.1</td>\n",
       "      <td>1965.10</td>\n",
       "      <td>1954.20</td>\n",
       "      <td>1954.82</td>\n",
       "      <td>2416829</td>\n",
       "      <td>4.724458e+14</td>\n",
       "      <td>108209</td>\n",
       "      <td>1772070</td>\n",
       "      <td>0.7332</td>\n",
       "    </tr>\n",
       "    <tr>\n",
       "      <th>2015-01-07</th>\n",
       "      <td>INFY</td>\n",
       "      <td>EQ</td>\n",
       "      <td>1954.20</td>\n",
       "      <td>1965.00</td>\n",
       "      <td>1974.75</td>\n",
       "      <td>1950.0</td>\n",
       "      <td>1966.05</td>\n",
       "      <td>1963.55</td>\n",
       "      <td>1962.59</td>\n",
       "      <td>1812479</td>\n",
       "      <td>3.557162e+14</td>\n",
       "      <td>62463</td>\n",
       "      <td>1317720</td>\n",
       "      <td>0.7270</td>\n",
       "    </tr>\n",
       "  </tbody>\n",
       "</table>\n",
       "</div>"
      ],
      "text/plain": [
       "           Symbol Series  Prev Close     Open     High     Low     Last  \\\n",
       "Date                                                                      \n",
       "2015-01-01   INFY     EQ     1972.55  1968.95  1982.00  1956.9  1971.00   \n",
       "2015-01-02   INFY     EQ     1974.40  1972.00  2019.05  1972.0  2017.95   \n",
       "2015-01-05   INFY     EQ     2013.20  2009.90  2030.00  1977.5  1996.00   \n",
       "2015-01-06   INFY     EQ     1995.90  1980.00  1985.00  1934.1  1965.10   \n",
       "2015-01-07   INFY     EQ     1954.20  1965.00  1974.75  1950.0  1966.05   \n",
       "\n",
       "              Close     VWAP   Volume      Turnover  Trades  \\\n",
       "Date                                                          \n",
       "2015-01-01  1974.40  1971.34   500691  9.870306e+13   14908   \n",
       "2015-01-02  2013.20  2003.25  1694580  3.394669e+14   54166   \n",
       "2015-01-05  1995.90  2004.59  2484256  4.979911e+14   82694   \n",
       "2015-01-06  1954.20  1954.82  2416829  4.724458e+14  108209   \n",
       "2015-01-07  1963.55  1962.59  1812479  3.557162e+14   62463   \n",
       "\n",
       "            Deliverable Volume  %Deliverble  \n",
       "Date                                         \n",
       "2015-01-01              258080       0.5154  \n",
       "2015-01-02             1249104       0.7371  \n",
       "2015-01-05             1830962       0.7370  \n",
       "2015-01-06             1772070       0.7332  \n",
       "2015-01-07             1317720       0.7270  "
      ]
     },
     "execution_count": 23,
     "metadata": {},
     "output_type": "execute_result"
    }
   ],
   "source": [
    "infy = get_history(symbol='INFY',\n",
    "                   start=date(2015,1,1),\n",
    "                   end=date(2016,1,1))\n",
    "infy.head()"
   ]
  },
  {
   "cell_type": "code",
   "execution_count": 24,
   "metadata": {
    "scrolled": true
   },
   "outputs": [
    {
     "data": {
      "text/plain": [
       "<matplotlib.axes._subplots.AxesSubplot at 0x7fab1a1af128>"
      ]
     },
     "execution_count": 24,
     "metadata": {},
     "output_type": "execute_result"
    },
    {
     "data": {
      "image/png": "[encoded data removed]",
      "text/plain": [
       "<Figure size 432x288 with 2 Axes>"
      ]
     },
     "metadata": {
      "needs_background": "light"
     },
     "output_type": "display_data"
    }
   ],
   "source": [
    "infy[[ 'VWAP', 'Turnover']].plot(secondary_y='Turnover')"
   ]
  },
  {
   "cell_type": "code",
   "execution_count": 25,
   "metadata": {},
   "outputs": [],
   "source": [
    "infy.to_csv('infy.csv')"
   ]
  },
  {
   "cell_type": "code",
   "execution_count": null,
   "metadata": {},
   "outputs": [],
   "source": []
  },
  {
   "cell_type": "code",
   "execution_count": 17,
   "metadata": {},
   "outputs": [],
   "source": [
    "nifty_it = get_history(symbol=\"NIFTYIT\", \n",
    "                    start=date(2015,1,1), \n",
    "                    end=date(2016,1,1),\n",
    "                    index=True)"
   ]
  },
  {
   "cell_type": "code",
   "execution_count": 18,
   "metadata": {},
   "outputs": [
    {
     "data": {
      "text/html": [
       "<div>\n",
       "<style scoped>\n",
       "    .dataframe tbody tr th:only-of-type {\n",
       "        vertical-align: middle;\n",
       "    }\n",
       "\n",
       "    .dataframe tbody tr th {\n",
       "        vertical-align: top;\n",
       "    }\n",
       "\n",
       "    .dataframe thead th {\n",
       "        text-align: right;\n",
       "    }\n",
       "</style>\n",
       "<table border=\"1\" class=\"dataframe\">\n",
       "  <thead>\n",
       "    <tr style=\"text-align: right;\">\n",
       "      <th></th>\n",
       "      <th>Open</th>\n",
       "      <th>High</th>\n",
       "      <th>Low</th>\n",
       "      <th>Close</th>\n",
       "      <th>Volume</th>\n",
       "      <th>Turnover</th>\n",
       "    </tr>\n",
       "    <tr>\n",
       "      <th>Date</th>\n",
       "      <th></th>\n",
       "      <th></th>\n",
       "      <th></th>\n",
       "      <th></th>\n",
       "      <th></th>\n",
       "      <th></th>\n",
       "    </tr>\n",
       "  </thead>\n",
       "  <tbody>\n",
       "    <tr>\n",
       "      <th>2015-01-01</th>\n",
       "      <td>11214.80</td>\n",
       "      <td>11235.75</td>\n",
       "      <td>11166.35</td>\n",
       "      <td>11215.70</td>\n",
       "      <td>4246150</td>\n",
       "      <td>3.575100e+09</td>\n",
       "    </tr>\n",
       "    <tr>\n",
       "      <th>2015-01-02</th>\n",
       "      <td>11214.65</td>\n",
       "      <td>11399.10</td>\n",
       "      <td>11214.65</td>\n",
       "      <td>11372.10</td>\n",
       "      <td>10004862</td>\n",
       "      <td>9.645600e+09</td>\n",
       "    </tr>\n",
       "    <tr>\n",
       "      <th>2015-01-05</th>\n",
       "      <td>11369.35</td>\n",
       "      <td>11433.75</td>\n",
       "      <td>11186.95</td>\n",
       "      <td>11248.55</td>\n",
       "      <td>8858018</td>\n",
       "      <td>1.059000e+10</td>\n",
       "    </tr>\n",
       "    <tr>\n",
       "      <th>2015-01-06</th>\n",
       "      <td>11186.10</td>\n",
       "      <td>11186.10</td>\n",
       "      <td>10909.00</td>\n",
       "      <td>10959.90</td>\n",
       "      <td>12515739</td>\n",
       "      <td>1.364500e+10</td>\n",
       "    </tr>\n",
       "    <tr>\n",
       "      <th>2015-01-07</th>\n",
       "      <td>11013.20</td>\n",
       "      <td>11042.35</td>\n",
       "      <td>10889.55</td>\n",
       "      <td>10916.00</td>\n",
       "      <td>10976356</td>\n",
       "      <td>1.203440e+10</td>\n",
       "    </tr>\n",
       "  </tbody>\n",
       "</table>\n",
       "</div>"
      ],
      "text/plain": [
       "                Open      High       Low     Close    Volume      Turnover\n",
       "Date                                                                      \n",
       "2015-01-01  11214.80  11235.75  11166.35  11215.70   4246150  3.575100e+09\n",
       "2015-01-02  11214.65  11399.10  11214.65  11372.10  10004862  9.645600e+09\n",
       "2015-01-05  11369.35  11433.75  11186.95  11248.55   8858018  1.059000e+10\n",
       "2015-01-06  11186.10  11186.10  10909.00  10959.90  12515739  1.364500e+10\n",
       "2015-01-07  11013.20  11042.35  10889.55  10916.00  10976356  1.203440e+10"
      ]
     },
     "execution_count": 18,
     "metadata": {},
     "output_type": "execute_result"
    }
   ],
   "source": [
    "nifty_it.head()"
   ]
  },
  {
   "cell_type": "code",
   "execution_count": 21,
   "metadata": {},
   "outputs": [
    {
     "data": {
      "text/plain": [
       "<matplotlib.axes._subplots.AxesSubplot at 0x7fab19790320>"
      ]
     },
     "execution_count": 21,
     "metadata": {},
     "output_type": "execute_result"
    },
    {
     "data": {
      "image/png": "[encoded data removed]",
      "text/plain": [
       "<Figure size 432x288 with 1 Axes>"
      ]
     },
     "metadata": {
      "needs_background": "light"
     },
     "output_type": "display_data"
    }
   ],
   "source": [
    "nifty_it['Close'].plot()"
   ]
  },
  {
   "cell_type": "code",
   "execution_count": 22,
   "metadata": {},
   "outputs": [],
   "source": [
    "nifty_it.to_csv(\"nifty_it.csv\")"
   ]
  },
  {
   "cell_type": "code",
   "execution_count": null,
   "metadata": {},
   "outputs": [],
   "source": []
  }
 ],
 "metadata": {
  "kernelspec": {
   "display_name": "Python 3",
   "language": "python",
   "name": "python3"
  },
  "language_info": {
   "codemirror_mode": {
    "name": "ipython",
    "version": 3
   },
   "file_extension": ".py",
   "mimetype": "text/x-python",
   "name": "python",
   "nbconvert_exporter": "python",
   "pygments_lexer": "ipython3",
   "version": "3.6.7"
  }
 },
 "nbformat": 4,
 "nbformat_minor": 2
}
